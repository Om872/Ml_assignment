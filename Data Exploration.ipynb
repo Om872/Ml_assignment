{
  "nbformat": 4,
  "nbformat_minor": 0,
  "metadata": {
    "colab": {
      "provenance": [],
      "authorship_tag": "ABX9TyO+foMpckTwbx6ra7gPnn0v",
      "include_colab_link": true
    },
    "kernelspec": {
      "name": "python3",
      "display_name": "Python 3"
    },
    "language_info": {
      "name": "python"
    }
  },
  "cells": [
    {
      "cell_type": "markdown",
      "metadata": {
        "id": "view-in-github",
        "colab_type": "text"
      },
      "source": [
        "<a href=\"https://colab.research.google.com/github/Om872/Ml_assignment/blob/main/Data%20Exploration.ipynb\" target=\"_parent\"><img src=\"https://colab.research.google.com/assets/colab-badge.svg\" alt=\"Open In Colab\"/></a>"
      ]
    },
    {
      "cell_type": "code",
      "execution_count": 1,
      "metadata": {
        "colab": {
          "base_uri": "https://localhost:8080/"
        },
        "id": "PHSRYabMBRCc",
        "outputId": "53f317b5-3d88-49fc-9ebe-fe4ef9eff99e"
      },
      "outputs": [
        {
          "output_type": "stream",
          "name": "stdout",
          "text": [
            "Section 1: First five rows of the Iris dataset\n",
            "   sepal length (cm)  sepal width (cm)  petal length (cm)  petal width (cm)  \\\n",
            "0                5.1               3.5                1.4               0.2   \n",
            "1                4.9               3.0                1.4               0.2   \n",
            "2                4.7               3.2                1.3               0.2   \n",
            "3                4.6               3.1                1.5               0.2   \n",
            "4                5.0               3.6                1.4               0.2   \n",
            "\n",
            "  species  \n",
            "0  setosa  \n",
            "1  setosa  \n",
            "2  setosa  \n",
            "3  setosa  \n",
            "4  setosa  \n",
            "\n",
            "Section 2: Dataset shape and summary statistics\n",
            "Shape of the dataset: (150, 5)\n",
            "\n",
            "Summary Statistics:\n",
            "       sepal length (cm)  sepal width (cm)  petal length (cm)  \\\n",
            "count         150.000000        150.000000         150.000000   \n",
            "mean            5.843333          3.057333           3.758000   \n",
            "std             0.828066          0.435866           1.765298   \n",
            "min             4.300000          2.000000           1.000000   \n",
            "25%             5.100000          2.800000           1.600000   \n",
            "50%             5.800000          3.000000           4.350000   \n",
            "75%             6.400000          3.300000           5.100000   \n",
            "max             7.900000          4.400000           6.900000   \n",
            "\n",
            "       petal width (cm)  \n",
            "count        150.000000  \n",
            "mean           1.199333  \n",
            "std            0.762238  \n",
            "min            0.100000  \n",
            "25%            0.300000  \n",
            "50%            1.300000  \n",
            "75%            1.800000  \n",
            "max            2.500000  \n"
          ]
        }
      ],
      "source": [
        "import numpy as np\n",
        "import pandas as pd\n",
        "from sklearn.datasets import load_iris\n",
        "\n",
        "# Load the Iris dataset\n",
        "iris = load_iris()\n",
        "iris_data = iris.data\n",
        "iris_target = iris.target\n",
        "iris_feature_names = iris.feature_names\n",
        "iris_target_names = iris.target_names\n",
        "\n",
        "# Create a DataFrame for easier analysis\n",
        "df = pd.DataFrame(iris_data, columns=iris_feature_names)\n",
        "df['species'] = [iris_target_names[i] for i in iris_target]\n",
        "\n",
        "# Section 1: Display the first five rows of the dataset\n",
        "print(\"Section 1: First five rows of the Iris dataset\")\n",
        "print(df.head())\n",
        "\n",
        "# Section 2: Show the dataset’s shape and summary statistics\n",
        "print(\"\\nSection 2: Dataset shape and summary statistics\")\n",
        "print(f\"Shape of the dataset: {df.shape}\")\n",
        "\n",
        "# Summary statistics for each feature\n",
        "summary_stats = df.describe()\n",
        "\n",
        "print(\"\\nSummary Statistics:\")\n",
        "print(summary_stats)\n"
      ]
    }
  ]
}